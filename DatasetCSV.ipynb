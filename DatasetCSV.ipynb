{
 "cells": [
  {
   "cell_type": "code",
   "execution_count": 2,
   "metadata": {},
   "outputs": [],
   "source": [
    "import numpy as np # linear algebra\n",
    "import pandas as pd # data processing\n",
    "from PIL import Image\n",
    "import sys\n",
    "import array\n",
    "import os"
   ]
  },
  {
   "cell_type": "code",
   "execution_count": 5,
   "metadata": {},
   "outputs": [],
   "source": [
    "columnNames = list()\n",
    "columnNames.append('label')\n",
    "for i in range(784):\n",
    "    pixel = 'pixel'\n",
    "    pixel += str(i)\n",
    "    columnNames.append(pixel)\n",
    "train_data = pd.DataFrame(columns = columnNames)\n",
    "i=0\n",
    "count=1\n",
    "for dirname, _, filenames in os.walk('F:/Open CV/Learn1/Dataset/train'):\n",
    "    for filename in filenames:\n",
    "        image_name = os.path.join(dirname, filename)\n",
    "        label = dirname[dirname.rindex('/')+1:]\n",
    "        img = Image.open(image_name)\n",
    "        rawData = img.load()\n",
    "        data = []\n",
    "        data.append(label)\n",
    "        #28 itu dimensionnya, 784 itu 28x28 \n",
    "        for y in range(28):\n",
    "            for x in range(28):\n",
    "                data.append(rawData[x,y])\n",
    "        k = 0\n",
    "        train_data.loc[i] = [data[k] for k in range(785)]\n",
    "        i = i+1\n",
    "    count = count + 1"
   ]
  },
  {
   "cell_type": "code",
   "execution_count": null,
   "metadata": {},
   "outputs": [],
   "source": []
  }
 ],
 "metadata": {
  "kernelspec": {
   "display_name": "Python 3",
   "language": "python",
   "name": "python3"
  },
  "language_info": {
   "codemirror_mode": {
    "name": "ipython",
    "version": 3
   },
   "file_extension": ".py",
   "mimetype": "text/x-python",
   "name": "python",
   "nbconvert_exporter": "python",
   "pygments_lexer": "ipython3",
   "version": "3.7.1"
  }
 },
 "nbformat": 4,
 "nbformat_minor": 4
}
